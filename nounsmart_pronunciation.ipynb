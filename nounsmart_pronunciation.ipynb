{
  "nbformat": 4,
  "nbformat_minor": 0,
  "metadata": {
    "colab": {
      "provenance": [],
      "authorship_tag": "ABX9TyMX1xeV0dF8JhiC2P8BmMgk",
      "include_colab_link": true
    },
    "kernelspec": {
      "name": "python3",
      "display_name": "Python 3"
    },
    "language_info": {
      "name": "python"
    }
  },
  "cells": [
    {
      "cell_type": "markdown",
      "metadata": {
        "id": "view-in-github",
        "colab_type": "text"
      },
      "source": [
        "<a href=\"https://colab.research.google.com/github/sundaybest3/NounSmart_pronunciation/blob/main/nounsmart_pronunciation.ipynb\" target=\"_parent\"><img src=\"https://colab.research.google.com/assets/colab-badge.svg\" alt=\"Open In Colab\"/></a>"
      ]
    },
    {
      "cell_type": "code",
      "execution_count": null,
      "metadata": {
        "id": "-inPXlZOl2CC"
      },
      "outputs": [],
      "source": [
        "%%capture\n",
        "!pip install pandas gradio gTTS SpeechRecognition numpy Scipy list"
      ]
    },
    {
      "cell_type": "code",
      "source": [
        "import pandas as pd\n",
        "import gradio as gr\n",
        "from gtts import gTTS\n",
        "import os\n",
        "from difflib import SequenceMatcher\n",
        "from tempfile import NamedTemporaryFile\n",
        "import random\n",
        "import speech_recognition as sr\n",
        "import wave\n",
        "import numpy as np\n",
        "from scipy.io.wavfile import write\n",
        "\n",
        "# Load and preprocess the CSV data\n",
        "csv_url = \"https://raw.githubusercontent.com/sundaybest3/NounSmart_pronunciation/refs/heads/main/nouns_CE_visang.csv\"\n",
        "data = pd.read_csv(csv_url)\n",
        "data = data[(data['Countability'] != 'uncountable') & (data['regularity'] == 'regular')]  # Exclude uncountable and irregular nouns\n",
        "plural_nouns = data[['Page', 'Plural']].dropna().reset_index(drop=True)\n",
        "\n",
        "# Ensure static directory exists for storing audio files\n",
        "os.makedirs(\"static\", exist_ok=True)\n",
        "\n",
        "# Generate dropdown options with word count\n",
        "def generate_page_dropdown():\n",
        "    pages = plural_nouns['Page'].unique()\n",
        "    dropdown = [f\"{page} ({len(plural_nouns[plural_nouns['Page'] == page])} words)\" for page in pages]\n",
        "    return dropdown\n",
        "\n",
        "# Function to generate audio for a word\n",
        "def generate_audio(word):\n",
        "    file_path = f\"static/{word.replace(' ', '_')}.mp3\"\n",
        "    if not os.path.exists(file_path):\n",
        "        tts = gTTS(text=word, lang='en', slow=True)  # Enable slow playback\n",
        "        tts.save(file_path)\n",
        "    return file_path\n",
        "\n",
        "# Function to calculate accuracy\n",
        "def calculate_accuracy(user_input, correct_word):\n",
        "    return round(SequenceMatcher(None, user_input.lower(), correct_word.lower()).ratio() * 100, 2)\n",
        "\n",
        "# App logic functions\n",
        "def greet_user(nickname):\n",
        "    return f\"Welcome, {nickname}! Select a page from the textbook you want to practice.\"\n",
        "\n",
        "def get_practice_page(page):\n",
        "    page_number = int(page.split(' ')[0])  # Extract the numeric page\n",
        "    page_data = plural_nouns[plural_nouns['Page'] == page_number]\n",
        "    return page_data.reset_index(drop=True)\n",
        "\n",
        "def get_random_word(page):\n",
        "    page_number = int(page.split(' ')[0])  # Extract the numeric page\n",
        "    page_data = plural_nouns[plural_nouns['Page'] == page_number]\n",
        "    if page_data.empty:\n",
        "        return \"\"\n",
        "    random_word = random.choice(page_data['Plural'].tolist())\n",
        "    return random_word\n",
        "\n",
        "def generate_word_audio(word):\n",
        "    if not word:\n",
        "        return None\n",
        "    audio_path = generate_audio(f\"{word}, {word}, {word}\")\n",
        "    return audio_path\n",
        "\n",
        "def practice(word, user_audio):\n",
        "    if user_audio is None:\n",
        "        return \"No audio detected. Please record your pronunciation and try again.\"\n",
        "\n",
        "    correct_word = word\n",
        "    temp_file = NamedTemporaryFile(delete=False, suffix=\".wav\")\n",
        "    temp_file.close()\n",
        "\n",
        "    try:\n",
        "        # Extract audio data and write to a .wav file\n",
        "        sample_rate, audio_array = user_audio  # Gradio's audio input format\n",
        "        audio_array = (audio_array * 32767).astype(np.int16)  # Scale to int16 for .wav format\n",
        "        write(temp_file.name, sample_rate, audio_array)\n",
        "\n",
        "        # Process the user's audio input\n",
        "        recognizer = sr.Recognizer()\n",
        "        with sr.AudioFile(temp_file.name) as source:\n",
        "            audio_data = recognizer.record(source)\n",
        "            try:\n",
        "                user_pronunciation = recognizer.recognize_google(audio_data).lower()\n",
        "            except sr.UnknownValueError:\n",
        "                return \"Sorry, we couldn't understand your pronunciation. Please try again.\"\n",
        "            except sr.RequestError:\n",
        "                return \"Speech recognition service is unavailable. Please try later.\"\n",
        "\n",
        "        # Calculate accuracy\n",
        "        accuracy = calculate_accuracy(user_pronunciation, correct_word)\n",
        "        return f\"Your accuracy: {accuracy}% (Recognized: {user_pronunciation})\"\n",
        "    except Exception as e:\n",
        "        return f\"An error occurred while processing the audio: {str(e)}\"\n",
        "    finally:\n",
        "        os.remove(temp_file.name)  # Clean up the temporary file\n",
        "\n",
        "# Gradio Interface\n",
        "with gr.Blocks() as main_interface:\n",
        "    with gr.Row():\n",
        "        nickname = gr.Textbox(label=\"Enter your nickname\")\n",
        "        greet_button = gr.Button(\"Submit\")\n",
        "    greet_output = gr.Textbox(label=\"Greeting\", interactive=False)\n",
        "\n",
        "    page_number = gr.Dropdown(choices=generate_page_dropdown(), label=\"Select a Page\")\n",
        "    with gr.Row():\n",
        "        get_word_button = gr.Button(\"Get a Random Word\")\n",
        "        random_word_output = gr.Textbox(label=\"Random Word to Practice\", interactive=False)\n",
        "\n",
        "    play_button = gr.Button(\"Play Word\")\n",
        "    audio_output = gr.Audio(label=\"Listen to the Word\")\n",
        "\n",
        "    user_audio_input = gr.Audio(label=\"Record Your Pronunciation\")\n",
        "    practice_button = gr.Button(\"Check Pronunciation\")\n",
        "    results_output = gr.Textbox(label=\"Results\", interactive=False)\n",
        "\n",
        "    greet_button.click(greet_user, inputs=[nickname], outputs=[greet_output])\n",
        "\n",
        "    get_word_button.click(get_random_word, inputs=[page_number], outputs=[random_word_output])\n",
        "\n",
        "    play_button.click(generate_word_audio, inputs=[random_word_output], outputs=[audio_output])\n",
        "\n",
        "    practice_button.click(practice, inputs=[random_word_output, user_audio_input], outputs=[results_output])\n",
        "\n",
        "if __name__ == \"__main__\":\n",
        "    main_interface.launch()\n"
      ],
      "metadata": {
        "colab": {
          "base_uri": "https://localhost:8080/",
          "height": 631
        },
        "id": "6fxXuXitLdRc",
        "outputId": "cbe53988-fe80-4d2e-e109-651f59d6b729"
      },
      "execution_count": null,
      "outputs": [
        {
          "output_type": "stream",
          "name": "stdout",
          "text": [
            "Running Gradio in a Colab notebook requires sharing enabled. Automatically setting `share=True` (you can turn this off by setting `share=False` in `launch()` explicitly).\n",
            "\n",
            "Colab notebook detected. To show errors in colab notebook, set debug=True in launch()\n",
            "* Running on public URL: https://f6c120bea019b69f98.gradio.live\n",
            "\n",
            "This share link expires in 72 hours. For free permanent hosting and GPU upgrades, run `gradio deploy` from the terminal in the working directory to deploy to Hugging Face Spaces (https://huggingface.co/spaces)\n"
          ]
        },
        {
          "output_type": "display_data",
          "data": {
            "text/plain": [
              "<IPython.core.display.HTML object>"
            ],
            "text/html": [
              "<div><iframe src=\"https://f6c120bea019b69f98.gradio.live\" width=\"100%\" height=\"500\" allow=\"autoplay; camera; microphone; clipboard-read; clipboard-write;\" frameborder=\"0\" allowfullscreen></iframe></div>"
            ]
          },
          "metadata": {}
        }
      ]
    }
  ]
}